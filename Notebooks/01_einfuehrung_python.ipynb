{
 "cells": [
  {
   "cell_type": "markdown",
   "id": "336666e5",
   "metadata": {},
   "source": [
    "# Notebook: Einführung in Python"
   ]
  },
  {
   "cell_type": "markdown",
   "id": "c3f03eb4",
   "metadata": {},
   "source": [
    "In diesem Notebook werden wir die Grundlagen der Programmiersprache Python erkunden."
   ]
  },
  {
   "cell_type": "markdown",
   "id": "2c1d5aff",
   "metadata": {},
   "source": [
    "## 1. Beispiele mit Lösungen\n",
    "\n",
    "### Beispiel 1: Variablen und Datentypen"
   ]
  },
  {
   "cell_type": "code",
   "execution_count": null,
   "id": "fb949ccc",
   "metadata": {},
   "outputs": [],
   "source": [
    "# Verschiedene Datentypen in Python\n",
    "name = \"Max\"  # String\n",
    "alter = 25      # Integer\n",
    "groesse = 1.68  # Float\n",
    "ist_student = True  # Boolean\n",
    "hobbies = [\"Lesen\", \"Programmieren\", \"Sport\"]  # Liste\n",
    "adresse = {\"stadt\": \"München\", \"plz\": 80331}  # Dictionary\n",
    "\n",
    "# Verwenden wir nun print(), um die Variablen und ihre Typen auszugeben. Erinnerung: f-Strings (f\"<...>\") ermöglichen es uns, Variablen direkt in den String einzufügen.\n",
    "print(f\"Name: {name} (Typ: {type(name)})\")\n",
    "print(f\"Alter: {alter} (Typ: {type(alter)})\")\n",
    "print(f\"Größe: {groesse} (Typ: {type(groesse)})\")\n",
    "print(f\"Ist Student: {ist_student} (Typ: {type(ist_student)})\")\n",
    "print(f\"Hobbies: {hobbies} (Typ: {type(hobbies)})\")\n",
    "print(f\"Adresse: {adresse} (Typ: {type(adresse)})\")"
   ]
  },
  {
   "cell_type": "markdown",
   "id": "0e8ddc36",
   "metadata": {},
   "source": [
    "### Beispiel 2: String-Operationen und F-Strings"
   ]
  },
  {
   "cell_type": "code",
   "execution_count": null,
   "id": "e1a780c6",
   "metadata": {},
   "outputs": [],
   "source": [
    "# String-Operationen\n",
    "# Nun wollen wir einige grundlegende String-Operationen demonstrieren.\n",
    "\n",
    "text = \"  Python für Natural Language Processing  \"\n",
    "\n",
    "print(f\"Original: '{text}'\")\n",
    "print(f\"Länge: {len(text)}\")\n",
    "print(f\"Großbuchstaben: {text.upper()}\")\n",
    "print(f\"Kleinbuchstaben: {text.lower()}\")\n",
    "print(f\"Ohne Leerzeichen: '{text.strip()}'\")\n",
    "print(f\"Ersetzt: {text.replace('Python', 'Java')}\")\n",
    "\n",
    "# String aufteilen\n",
    "woerter = text.strip().split()\n",
    "print(f\"Wörter: {woerter}\")\n",
    "\n",
    "# F-String Formatierung\n",
    "name = \"Maria\"\n",
    "punkte = 95.7\n",
    "print(f\"Studentin {name} hat {punkte:.1f} Punkte erreicht.\")\n",
    "print(f\"Das sind {punkte/100:.1%} der möglichen Punkte.\")"
   ]
  },
  {
   "cell_type": "markdown",
   "id": "6bb21251",
   "metadata": {},
   "source": [
    "### Beispiel 3: Listen-Operationen"
   ]
  },
  {
   "cell_type": "code",
   "execution_count": 2,
   "id": "30918b3d",
   "metadata": {},
   "outputs": [
    {
     "name": "stdout",
     "output_type": "stream",
     "text": [
      "Original Liste: [1, 3, 5, 7, 9]\n",
      "Nach Hinzufügen: [-1, 1, 3, 5, 7, 9, 11, 13, 15]\n",
      "Erste 3 Elemente: [-1, 1, 3]\n",
      "Letzte 3 Elemente: [11, 13, 15]\n",
      "Jedes zweite Element: [-1, 3, 7, 11, 15]\n",
      "Quadrate positiver Zahlen: [1, 9, 25, 49, 81, 121, 169, 225]\n",
      "Sortiert (absteigend): [15, 13, 11, 9, 7, 5, 3, 1, -1]\n"
     ]
    }
   ],
   "source": [
    "# Listen erstellen und manipulieren\n",
    "zahlen = [1, 3, 5, 7, 9]\n",
    "print(f\"Original Liste: {zahlen}\")\n",
    "\n",
    "# Elemente hinzufügen\n",
    "zahlen.append(11) # mit append() wird ein einzelnes Element hinzugefügt\n",
    "zahlen.extend([13, 15]) # mit extend() wird eine Liste hinzugefügt\n",
    "zahlen.insert(0, -1) # mit insert() wird an einer bestimmten Position eingefügt\n",
    "print(f\"Nach Hinzufügen: {zahlen}\")\n",
    "\n",
    "# Slicing\n",
    "print(f\"Erste 3 Elemente: {zahlen[:3]}\") # Mit :3 werden die ersten drei Elemente ausgewählt\n",
    "print(f\"Letzte 3 Elemente: {zahlen[-3:]}\") # Mit -3: werden die letzten drei Elemente ausgewählt\n",
    "print(f\"Jedes zweite Element: {zahlen[::2]}\") # Mit ::2 werden jedes zweite Element ausgewählt\n",
    "\n",
    "# List Comprehension\n",
    "quadrate = [x**2 for x in zahlen if x > 0] # Quadrate positiver Zahlen in der Liste\n",
    "print(f\"Quadrate positiver Zahlen: {quadrate}\")\n",
    "\n",
    "# Sortieren\n",
    "zahlen.sort(reverse=True) # Sortieren in absteigender Reihenfolge\n",
    "print(f\"Sortiert (absteigend): {zahlen}\")"
   ]
  },
  {
   "cell_type": "markdown",
   "id": "ce4957bd",
   "metadata": {},
   "source": [
    "### Beispiel 4: Dictionaries für Textverarbeitung"
   ]
  },
  {
   "cell_type": "code",
   "execution_count": 4,
   "id": "b8ba3f13",
   "metadata": {},
   "outputs": [
    {
     "name": "stdout",
     "output_type": "stream",
     "text": [
      "Bereinigte Wörter: ['python', 'ist', 'eine', 'tolle', 'sprache', 'python', 'macht', 'spaß', 'programmieren', 'mit', 'python', 'ist', 'einfach']\n",
      "Worthäufigkeiten: {'python': 3, 'ist': 2, 'eine': 1, 'tolle': 1, 'sprache': 1, 'macht': 1, 'spaß': 1, 'programmieren': 1, 'mit': 1, 'einfach': 1}\n"
     ]
    }
   ],
   "source": [
    "# Dictionary für Worthäufigkeiten\n",
    "# Nun wird es etwas komplexer: Wir werden die Häufigkeit von Wörtern in einem Text zählen.\n",
    "\n",
    "text = \"Python ist eine tolle Sprache. Python macht Spaß. Programmieren mit Python ist einfach.\"\n",
    "\n",
    "# Text in Wörter aufteilen und bereinigen\n",
    "woerter = text.lower() # Wandeln wir den Text in Kleinbuchstaben um\n",
    "woerter = woerter.replace('.', '') # Entfernen wir Satzzeichen \".\"\n",
    "woerter = woerter.replace(',', '') # Entfernen wir Satzzeichen \",\"\n",
    "\n",
    "# Wandeln wir nun den Text (string) in eine Liste von Wörtern um. Die Standardtrennung ist Leerzeichen. \n",
    "# Falls wir der .split() Methode ein Argument übergeben, wird an diesem Zeichen getrennt.\n",
    "# Würden wir z.B. .split(',') verwenden, würde der Text an jedem Komma getrennt werden.\n",
    "woerter = woerter.split()\n",
    "print(f\"Bereinigte Wörter: {woerter}\")\n",
    "\n",
    "# Worthäufigkeiten zählen. Iterieren wir über die Liste der Wörter und verwenden ein Dictionary, um die Häufigkeiten zu speichern.\n",
    "worthaeufigkeit = {}\n",
    "for wort in woerter:\n",
    "    if wort in worthaeufigkeit: # Prüft, ob das Wort schon im Dictionary ist\n",
    "        # Falls das Wort schon im Dictionary ist, erhöhen wir den Zähler um 1. \n",
    "        worthaeufigkeit[wort] += 1\n",
    "    else:\n",
    "        # Falls das Wort noch nicht im Dictionary ist, initialisieren wir den Zähler mit 1\n",
    "        worthaeufigkeit[wort] = 1\n",
    "\n",
    "print(f\"Worthäufigkeiten: {worthaeufigkeit}\")"
   ]
  },
  {
   "cell_type": "markdown",
   "id": "3a478f4e",
   "metadata": {},
   "source": [
    "---\n",
    "\n",
    "## 2. Übungsaufgaben\n",
    "\n",
    "### Aufgabe 1: Variablen und String-Manipulation\n",
    "\n",
    "**Aufgabe:** Erstellen Sie ein Programm, das:\n",
    "1. Einen Namen und ein Alter als Variable speichert. Wählen Sie geeignete Datentypen.\n",
    "2. Eine Begrüßung mit F-String formatiert ausgibt.\n",
    "3. Den Namen in Großbuchstaben und das Alter in einer benutzerfreundlichen Form anzeigt.\n",
    "4. Prüft, ob die Person volljährig ist (>= 18 Jahre)."
   ]
  },
  {
   "cell_type": "code",
   "execution_count": null,
   "id": "0c8adaaa",
   "metadata": {},
   "outputs": [],
   "source": [
    "# Ihre Lösung hier:"
   ]
  },
  {
   "cell_type": "markdown",
   "id": "6eae1093",
   "metadata": {},
   "source": [
    "<details>\n",
    "<summary><b>Lösung anzeigen</b></summary>\n",
    "\n",
    "```python\n",
    "# Variablen definieren\n",
    "name = \"Max Mustermann\"\n",
    "alter = 22\n",
    "\n",
    "# Begrüßung mit F-String\n",
    "begruessung = f\"Hallo {name}, schön dich kennenzulernen!\"\n",
    "print(begruessung)\n",
    "\n",
    "# Name in Großbuchstaben und benutzerfreundliches Alter\n",
    "print(f\"Name: {name.upper()}\")\n",
    "print(f\"Sie sind {alter} Jahre alt.\")\n",
    "\n",
    "# Volljährigkeitsprüfung\n",
    "if alter >= 18:\n",
    "    print(f\"{name} ist volljährig.\")\n",
    "else:\n",
    "    print(f\"{name} ist minderjährig.\")\n",
    "```\n",
    "\n",
    "</details>"
   ]
  },
  {
   "cell_type": "markdown",
   "id": "dc29956a",
   "metadata": {},
   "source": [
    "### Aufgabe 2: Listen und Schleifen\n",
    "\n",
    "**Aufgabe:** Gegeben ist eine Liste von Temperaturen in Celsius. Schreiben Sie ein Programm, das:\n",
    "1. Die Temperaturen in Fahrenheit umrechnet (Formel: F = C * 9/5 + 32)\n",
    "2. Die durchschnittliche Temperatur berechnet. \n",
    "3. Alle Temperaturen über 25°C ausgibt.\n",
    "4. Die höchste und niedrigste Temperatur findet."
   ]
  },
  {
   "cell_type": "code",
   "execution_count": null,
   "id": "7c94ec70",
   "metadata": {},
   "outputs": [],
   "source": [
    "# Gegebene Temperaturen\n",
    "temperaturen_celsius = [18, 22, 29, 31, 15, 27, 33, 19, 25, 28]\n",
    "\n",
    "# Ihre Lösung hier:"
   ]
  },
  {
   "cell_type": "markdown",
   "id": "715495cd",
   "metadata": {},
   "source": [
    "<details>\n",
    "<summary><b>Lösung anzeigen</b></summary>\n",
    "\n",
    "```python\n",
    "# Gegebene Temperaturen\n",
    "temperaturen_celsius = [18, 22, 29, 31, 15, 27, 33, 19, 25, 28]\n",
    "\n",
    "# 1. Umrechnung in Fahrenheit\n",
    "temperaturen_fahrenheit = [(temp * 9/5) + 32 for temp in temperaturen_celsius]\n",
    "print(f\"Temperaturen in Fahrenheit: {temperaturen_fahrenheit}\")\n",
    "\n",
    "# 2. Durchschnittliche Temperatur\n",
    "durchschnitt = sum(temperaturen_celsius) / len(temperaturen_celsius)\n",
    "print(f\"Durchschnittstemperatur: {durchschnitt:.1f}°C\")\n",
    "\n",
    "# 3. Temperaturen über 25°C\n",
    "warme_tage = [temp for temp in temperaturen_celsius if temp > 25]\n",
    "print(f\"Temperaturen über 25°C: {warme_tage}\")\n",
    "\n",
    "# 4. Höchste und niedrigste Temperatur\n",
    "hoechste = max(temperaturen_celsius)\n",
    "niedrigste = min(temperaturen_celsius)\n",
    "print(f\"Höchste Temperatur: {hoechste}°C\")\n",
    "print(f\"Niedrigste Temperatur: {niedrigste}°C\")\n",
    "```\n",
    "\n",
    "</details>"
   ]
  },
  {
   "cell_type": "markdown",
   "id": "b185188a",
   "metadata": {},
   "source": [
    "### Aufgabe 3: Dictionary-Operationen\n",
    "\n",
    "**Aufgabe:** Sie haben ein Dictionary mit Studenten und ihren Noten. Schreiben Sie ein Programm, das:\n",
    "1. Die durchschnittliche Note aller Studenten berechnet\n",
    "2. Den besten und schlechtesten Studenten findet\n",
    "3. Alle Studenten mit einer Note besser als 2.0 ausgibt\n",
    "4. Ein neues Dictionary mit Bewertungen erstellt (1.0-1.5: \"Sehr gut\", 1.6-2.5: \"Gut\", etc.)"
   ]
  },
  {
   "cell_type": "code",
   "execution_count": 19,
   "id": "d3e2841f",
   "metadata": {},
   "outputs": [],
   "source": [
    "# Gegebene Studenten und Noten\n",
    "studenten_noten = {\n",
    "    \"Anna\": 1.3,\n",
    "    \"Ben\": 2.7,\n",
    "    \"Clara\": 1.0,\n",
    "    \"David\": 3.2,\n",
    "    \"Eva\": 1.8,\n",
    "    \"Felix\": 2.1\n",
    "}\n",
    "\n",
    "# Ihre Lösung hier:"
   ]
  },
  {
   "cell_type": "markdown",
   "id": "5184204d",
   "metadata": {},
   "source": [
    "<details>\n",
    "<summary><b>Lösung anzeigen</b></summary>\n",
    "\n",
    "```python\n",
    "# 1. Durchschnittliche Note\n",
    "noten = list(studenten_noten.values())\n",
    "durchschnitt = sum(noten) / len(noten)\n",
    "print(f\"Durchschnittsnote: {durchschnitt:.2f}\")\n",
    "\n",
    "# 2. Bester und schlechtester Student\n",
    "beste_note = min(noten)\n",
    "schlechteste_note = max(noten)\n",
    "\n",
    "# passenden Studenten finden\n",
    "# mit .items() iterieren wir über Schlüssel-Wert-Paare.\n",
    "# Da jeder Eintrag ein Tupel (Schlüssel, Wert) ist, können wir dieses Tupel auch direkt in zwei Variablen entpacken bei der for-Schleife.\n",
    "for name, note in studenten_noten.items(): \n",
    "    if note == beste_note:\n",
    "        bester = (name, note)\n",
    "    if note == schlechteste_note:\n",
    "        schlechtester = (name, note)\n",
    "\n",
    "print(f\"Bester Student: {bester[0]} mit Note {bester[1]}\")\n",
    "print(f\"Schlechtester Student: {schlechtester[0]} mit Note {schlechtester[1]}\")\n",
    "\n",
    "# 3. Studenten mit Note besser als 2.0\n",
    "gute_studenten = {name: note for name, note in studenten_noten.items() if note <= 2.0}\n",
    "print(f\"Studenten mit Note ≤ 2.0: {gute_studenten}\")\n",
    "\n",
    "# 4. Bewertungen erstellen\n",
    "def note_zu_bewertung(note):\n",
    "    if note <= 1.5:\n",
    "        return \"Sehr gut\"\n",
    "    elif note <= 2.5:\n",
    "        return \"Gut\"\n",
    "    elif note <= 3.5:\n",
    "        return \"Befriedigend\"\n",
    "    elif note <= 4.0:\n",
    "        return \"Ausreichend\"\n",
    "    else:\n",
    "        return \"Nicht bestanden\"\n",
    "\n",
    "studenten_bewertungen = {name: note_zu_bewertung(note) for name, note in studenten_noten.items()}\n",
    "print(f\"Bewertungen: {studenten_bewertungen}\")\n",
    "```\n",
    "\n",
    "</details>"
   ]
  },
  {
   "cell_type": "markdown",
   "id": "3f767596",
   "metadata": {},
   "source": [
    "### Aufgabe 4: Funktionen\n",
    "\n",
    "**Aufgabe:** Erstellen Sie die folgenden Funktionen basierend auf den Konzepten aus den Folien:\n",
    "\n",
    "1. Eine Funktion `begruessung` mit einem Parameter `vorname` und einem Parameter `nachname`, der den Standardwert \"Müller\" hat.\n",
    "2. Eine Funktion `verarbeite_argumente(*woerter)` die beliebig viele Argumente akzeptiert und alle Wörter in einer Zeile ausgibt"
   ]
  },
  {
   "cell_type": "code",
   "execution_count": null,
   "id": "5f2c11a1",
   "metadata": {},
   "outputs": [],
   "source": [
    "# Ihre Lösung hier:"
   ]
  },
  {
   "cell_type": "markdown",
   "id": "ddab8999",
   "metadata": {},
   "source": [
    "<details>\n",
    "<summary><b>Lösung anzeigen</b></summary>\n",
    "\n",
    "```python\n",
    "# 1. Funktion mit optionalem Parameter\n",
    "def begruessung(vorname, nachname=\"Müller\"):\n",
    "    return f\"Hallo {vorname} {nachname}, willkommen!\"\n",
    "\n",
    "# 2. Funktion mit beliebig vielen Argumenten (*args)\n",
    "def verarbeite_argumente(*woerter):\n",
    "    return \"Alle Wörter in einer Zeile: \" + \" \".join(woerter)\n",
    "```\n",
    "\n",
    "</details>"
   ]
  },
  {
   "cell_type": "markdown",
   "id": "d789983d",
   "metadata": {},
   "source": [
    "### Aufgabe 5: Klassen und Objekte\n",
    "\n",
    "**Aufgabe:** Erstellen Sie eine Klasse `Person` basierend auf den Konzepten aus den Folien:\n",
    "\n",
    "1. Die Klasse soll einen Konstruktor haben, der die Attribute `name` und `alter` initialisiert.\n",
    "2. Eine Methode `greet`, die eine Begrüßung zurückgibt.\n",
    "3. Eine Methode `ist_volljaehrig(self)`, die prüft ob die Person >= 18 Jahre alt ist.\n",
    "4. Erstellen Sie dann eine Klasse `Student`, die von Person erbt.\n",
    "5. Die Student-Klasse soll zusätzlich ein Attribut `studiengang` haben.\n",
    "6. Überschreiben Sie die `greet()`-Methode um den Studiengang mit auszugeben.\n",
    "7. Testen Sie beide Klassen mit verschiedenen Objekten."
   ]
  },
  {
   "cell_type": "code",
   "execution_count": 22,
   "id": "d55b0b11",
   "metadata": {},
   "outputs": [],
   "source": [
    "# Ihre Lösung hier:"
   ]
  },
  {
   "cell_type": "markdown",
   "id": "ae48ea3a",
   "metadata": {},
   "source": [
    "<details>\n",
    "<summary><b>Lösung anzeigen</b></summary>\n",
    "\n",
    "```python\n",
    "# Basis-Klasse Person\n",
    "class Person:\n",
    "    def __init__(self, name, alter):\n",
    "        \"\"\"Konstruktor: wird automatisch aufgerufen beim Erstellen eines Objekts\"\"\"\n",
    "        self.name = name\n",
    "        self.alter = alter\n",
    "    \n",
    "    def greet(self):\n",
    "        \"\"\"Begrüßungsmethode\"\"\"\n",
    "        return f\"Hallo, ich heiße {self.name} und bin {self.alter} Jahre alt.\"\n",
    "    \n",
    "    def ist_volljaehrig(self):\n",
    "        \"\"\"Prüft ob Person volljährig ist\"\"\"\n",
    "        return self.alter >= 18\n",
    "\n",
    "# Vererbung: Student erbt von Person\n",
    "class Student(Person):\n",
    "    def __init__(self, name, alter, studiengang):\n",
    "        \"\"\"Konstruktor mit super() um Parent-Konstruktor aufzurufen\"\"\"\n",
    "        super().__init__(name, alter)  # Aufruf des Parent-Konstruktors\n",
    "        self.studiengang = studiengang\n",
    "    \n",
    "    def greet(self):\n",
    "        \"\"\"Überschriebene greet-Methode (Polymorphismus)\"\"\"\n",
    "        return f\"Hallo, ich heiße {self.name}, bin {self.alter} Jahre alt und studiere {self.studiengang}.\"\n",
    "    \n",
    "    def studieninfo(self):\n",
    "        \"\"\"Zusätzliche Methode nur für Studenten\"\"\"\n",
    "        return f\"{self.name} studiert {self.studiengang}.\"\n",
    "\n",
    "# Tests der Klassen\n",
    "print(\"=== Test Person-Klasse ===\")\n",
    "person1 = Person(\"Max Mustermann\", 25)\n",
    "print(person1.greet())\n",
    "print(f\"Volljährig: {person1.ist_volljaehrig()}\")\n",
    "\n",
    "person2 = Person(\"Lisa Schmidt\", 16)\n",
    "print(person2.greet())\n",
    "print(f\"Volljährig: {person2.ist_volljaehrig()}\")\n",
    "\n",
    "print(\"\\n=== Test Student-Klasse (Vererbung) ===\")\n",
    "student1 = Student(\"Anna Müller\", 22, \"Informatik\")\n",
    "print(student1.greet())  # Überschriebene Methode\n",
    "print(f\"Volljährig: {student1.ist_volljaehrig()}\")  # Geerbte Methode\n",
    "print(student1.studieninfo())  # Eigene Methode\n",
    "\n",
    "student2 = Student(\"Tom Weber\", 17, \"Mathematik\")\n",
    "print(student2.greet())\n",
    "print(f\"Volljährig: {student2.ist_volljaehrig()}\")\n",
    "\n",
    "print(\"\\n=== Polymorphismus Demonstration ===\")\n",
    "personen = [person1, student1, student2]\n",
    "for p in personen:\n",
    "    print(p.greet())  # Jede Klasse hat ihre eigene greet()-Implementation\n",
    "```\n",
    "\n",
    "</details>"
   ]
  }
 ],
 "metadata": {
  "kernelspec": {
   "display_name": "env_nils_hellwig",
   "language": "python",
   "name": "python3"
  },
  "language_info": {
   "codemirror_mode": {
    "name": "ipython",
    "version": 3
   },
   "file_extension": ".py",
   "mimetype": "text/x-python",
   "name": "python",
   "nbconvert_exporter": "python",
   "pygments_lexer": "ipython3",
   "version": "3.12.11"
  }
 },
 "nbformat": 4,
 "nbformat_minor": 5
}
