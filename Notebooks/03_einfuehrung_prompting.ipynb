{
 "cells": [
  {
   "cell_type": "markdown",
   "id": "e40f98b0",
   "metadata": {},
   "source": [
    "# Notebook: Einführung inPrompting-Strategien für Large Language Models (LLMs)\n",
    "\n",
    "In diesem Notebook werden verschiedene Prompting-Strategien vorgestellt, die helfen können, die Leistung von Large Language Models (LLMs) zu verbessern.\n",
    "\n",
    "## 📚 Quellen\n",
    "\n",
    "- [Prompting Guide](https://www.promptingguide.ai/de/techniques)\n",
    "- [Python-Paket `openai`](https://github.com/openai/openai-python)\n",
    "\n",
    "---\n",
    "\n",
    "Viel Spaß beim Erkunden und Experimentieren! 🤗"
   ]
  },
  {
   "cell_type": "markdown",
   "id": "83dba87b",
   "metadata": {},
   "source": [
    "Wir verwenden das `openai`-Paket, um mit einem LLM zu interagieren. Das Paket erlaubt sowohl die Kommunikation mit der OpenAI-API als auch mit anderen LLMs, die eine kompatible API anbieten. \n",
    "\n",
    "**Wichtiger Hinweis:** Bei der Uni haben wir mehrere Large Language Models zur Verfügung gestellt über einen Server. Ich verweise an dieser Stelle auf die Anleitung für den VPN-Zugang, den ich bei GRIPS hinterlegt habe. Anfragen an das LLM sind nur **innerhalb des Uni-Netzwerks** möglich, das bedeutet, dass ihr entweder auf dem Campus seid im `eduroam` oder über VPN verbunden seid.\n",
    "\n",
    "Auf dem Uni-Server werden mehrere Open-Source LLMs angeboten, wobei diese ollama bereitgestellt werden.\n",
    "\n",
    "Wir werden nun das Packet installieren."
   ]
  },
  {
   "cell_type": "code",
   "execution_count": 19,
   "id": "30c1349d",
   "metadata": {},
   "outputs": [],
   "source": [
    "%%capture \n",
    "!pip install openai"
   ]
  },
  {
   "cell_type": "code",
   "execution_count": 20,
   "id": "5ff304e3",
   "metadata": {},
   "outputs": [],
   "source": [
    "# Importieren wir nun das Paket\n",
    "from openai import OpenAI"
   ]
  },
  {
   "cell_type": "code",
   "execution_count": 21,
   "id": "b3637272",
   "metadata": {},
   "outputs": [],
   "source": [
    "# Definieren wir die API-URL und den API-Schlüssel. Beachte den Hinweis oben!\n",
    "LLM_URL = \"http://132.199.138.16:11434/v1\"\n",
    "LLM_MODEL = \"gemma3:4b\""
   ]
  },
  {
   "cell_type": "code",
   "execution_count": 22,
   "id": "31d03b4f",
   "metadata": {},
   "outputs": [],
   "source": [
    "client = OpenAI(\n",
    "    base_url=LLM_URL,\n",
    "    api_key='ollama',\n",
    ")"
   ]
  },
  {
   "cell_type": "code",
   "execution_count": 23,
   "id": "ef581dd3",
   "metadata": {},
   "outputs": [],
   "source": [
    "# Definieren wir eine Funktion, die eine Anfrage an das LLM stellt. Dabei handelt es sich um die completions-API, die eine Next-Token-Vorhersage durchführt.\n",
    "# Es werden maximal `max_tokens` generiert, die durch das `stop`-Token begrenzt werden können.\n",
    "def llm_completion(prompt, temperature=0.0, stop=[\"\\n\"], seed=0, max_tokens=256):\n",
    "    completion = client.completions.create(\n",
    "        model=LLM_MODEL,\n",
    "        temperature=temperature,\n",
    "        stop=stop,\n",
    "        prompt=prompt,\n",
    "        max_tokens=max_tokens,\n",
    "        seed=seed\n",
    "    )\n",
    "    return completion.choices[0].text"
   ]
  },
  {
   "cell_type": "code",
   "execution_count": 24,
   "id": "b3bfcd6e",
   "metadata": {},
   "outputs": [],
   "source": [
    "# Definieren wir noch eine weitere Funktion, die die Chat-Completions-API nutzt. Diese erlaubt es, Nachrichten in einem Chat-Format zu übergeben.\n",
    "def llm_completion_chat(prompt, temperature=0.0, stop=None, image_url=None, seed=0):\n",
    "    messages = [\n",
    "        {\n",
    "            \"role\": \"user\",\n",
    "            \"content\": [\n",
    "                    {\n",
    "                        \"type\": \"text\",\n",
    "                        \"text\": prompt\n",
    "                    }\n",
    "            ] + ([{\"type\": \"image_url\", \"image_url\": {\"url\": image_url}}] if image_url else [])\n",
    "        }\n",
    "    ]\n",
    "\n",
    "    extra_body = {\"stop\": [stop]} if stop else {}\n",
    "\n",
    "    response = client.chat.completions.create(\n",
    "        model=LLM_MODEL,\n",
    "        messages=messages,\n",
    "        temperature=temperature,\n",
    "        stream=False,\n",
    "        seed=seed,\n",
    "        extra_body=extra_body,\n",
    "    )\n",
    "\n",
    "    return response.choices[0].message.content"
   ]
  },
  {
   "cell_type": "markdown",
   "id": "de8fd639",
   "metadata": {},
   "source": [
    "## 1. Zero-shot Prompting\n",
    "\n",
    "**Zero-shot Prompting** bedeutet, dass Sie dem LLM direkt eine Aufgabe stellen – ganz ohne Beispiele oder zusätzliche Erklärungen.  \n",
    "\n",
    "Das Modell nutzt sein trainiertes Wissen, um Ihre Anfrage bestmöglich zu beantworten. Oft funktioniert das überraschend gut, besonders bei klar formulierten Fragen."
   ]
  },
  {
   "cell_type": "code",
   "execution_count": 25,
   "id": "9ff7bf54",
   "metadata": {},
   "outputs": [
    {
     "name": "stdout",
     "output_type": "stream",
     "text": [
      "Paris ist die Hauptstadt von Frankreich.\n"
     ]
    }
   ],
   "source": [
    "prompt = \"Paris ist die Hauptstadt von?\"\n",
    "print(llm_completion_chat(prompt, stop=\"\\n\"))"
   ]
  },
  {
   "cell_type": "markdown",
   "id": "0eca4eaf",
   "metadata": {},
   "source": [
    "## 2. Few-shot Prompting\n",
    "\n",
    "**Few-shot Prompting** bedeutet, dass Sie dem LLM einige Beispiele geben, um mehr Kontext zu bieten.\n",
    "\n",
    "Dies hilft dem Modell, Ihre Anfrage besser zu verstehen und relevantere Antworten zu generieren."
   ]
  },
  {
   "cell_type": "markdown",
   "id": "55893e7c",
   "metadata": {},
   "source": [
    "In dem Kontext ist das Paper **„Language Models are Few-Shot Learners“** von Brown et al. (2020), das 2020 GPT-3 vorgestellt hatte von besonderer Bedeutung. Statt das Modell neu zu trainieren, reicht es bei LLMs, dem Modell wenige Beispiele direkt im Prompt zur Verfügung zu stellen (Few-Shot), um neue Aufgaben zu lösen. Es kann in gewisser Weise von einem Paradigmenwechsel gesprochen werden: Statt für jede Aufgabe ein Modell feinzujustieren, können große Modelle durch Prompt-Engineering generalisieren.\n",
    "\n",
    "[Hier geht es zum Paper](https://proceedings.neurips.cc/paper_files/paper/2020/file/1457c0d6bfcb4967418bfb8ac142f64a-Paper.pdf)"
   ]
  },
  {
   "cell_type": "code",
   "execution_count": 26,
   "id": "7c661ad2",
   "metadata": {},
   "outputs": [
    {
     "name": "stdout",
     "output_type": "stream",
     "text": [
      "Sentiment Elemente: [(\"Stadt\", \"positive\")]\n"
     ]
    }
   ],
   "source": [
    "# In dem folgenden Beispiel wird ein Prompt verwendet, um Sentiment-Elemente aus Sätzen zu extrahieren.\n",
    "# Das Modell soll die relevanten Elemente identifizieren und deren Sentiment klassifizieren.\n",
    "prompt = '''Satz: Es war richtig toll in Berlin.\n",
    "Sentiment Elemente: [(\"Berlin\", \"positive\")]\n",
    "Satz: Das Essem war nicht so lecker.\n",
    "Sentiment Elemente: [(\"Essen\", \"negative\")]\n",
    "Satz: Hier in Portugal gibt es fantastische Strände aber leider war das Wetter schlecht.\n",
    "Sentiment Elemente: [(\"Strände\", \"positive\"), (\"Wetter\", \"negative\")]\n",
    "Satz: Die Stadt ist sehr schön.\n",
    "Sentiment Elemente:'''\n",
    "\n",
    "# stop ist ein optionales Stop-Kriterium, um die Antwort zu beenden\n",
    "print(llm_completion(prompt, stop=\"\\n\"))  # Stoppt die Antwort bei \"Satz:\""
   ]
  },
  {
   "cell_type": "markdown",
   "id": "9e495d90",
   "metadata": {},
   "source": [
    "### 3. Chain of Thought\n",
    "\n",
    "Eingeführt in [Wei et al. (2022)](https://arxiv.org/abs/2201.11903), ermöglicht Chain-of-Thought (CoT) Prompting komplexe Schlussfolgerungsfähigkeiten durch Zwischenschritte im Denkprozess. Sie können es mit Few-Shot-Prompting kombinieren, um bessere Ergebnisse bei komplexeren Aufgaben zu erzielen, die eine Schlussfolgerung vor der Beantwortung erfordern."
   ]
  },
  {
   "cell_type": "code",
   "execution_count": 27,
   "id": "dd4ba106",
   "metadata": {},
   "outputs": [
    {
     "name": "stdout",
     "output_type": "stream",
     "text": [
      "Okay, lass uns das Schritt für Schritt durchgehen:\n",
      "\n",
      "1. **Start:** Du hast mit 10 Äpfeln angefangen.\n",
      "2. **An den Nachbarn:** Du hast 2 Äpfel gegeben, also bleiben 10 - 2 = 8 Äpfel.\n",
      "3. **An den Handwerker:** Du hast 2 Äpfel gegeben, also bleiben 8 - 2 = 6 Äpfel.\n",
      "4. **Neue Käufe:** Du kaufst 5 Äpfel dazu, also hast du 6 + 5 = 11 Äpfel.\n",
      "5. **Du isst einen Apfel:** Du isst 1 Apfel, also bleiben 11 - 1 = 10 Äpfel.\n",
      "\n",
      "**Antwort:** Du hast 10 Äpfel übrig.\n"
     ]
    }
   ],
   "source": [
    "prompt = '''Ich ging auf den Markt und kaufte 10 Äpfel. Ich gab 2 Äpfel an den Nachbarn und 2 an den Handwerker. Dann ging ich und kaufte 5 weitere Äpfel und aß 1. Wie viele Äpfel blieben mir übrig?\n",
    "Lass uns Schritt für Schritt denken.\\n'''\n",
    "\n",
    "print(llm_completion_chat(prompt))  # Stoppt die Antwort bei \"Lass uns Schritt"
   ]
  },
  {
   "cell_type": "markdown",
   "id": "6be17c4d",
   "metadata": {},
   "source": [
    "## 4. Self-Consistency / Majority Vote\n",
    "\n",
    "Self-Consistency ist eine Technik, die in [Wang et al. (2022)](https://arxiv.org/abs/2203.11171) eingeführt wurde. Sie nutzt die Tatsache, dass LLMs bei der Beantwortung von Fragen oft mehrere plausible Antworten generieren können. Statt sich auf eine einzelne Antwort zu verlassen, aggregiert Self-Consistency mehrere Antworten und wählt die häufigste Antwort aus, um die Genauigkeit zu erhöhen.\n",
    "\n",
    "In dem Beispiel unten generieren wir mehrere Antworten, indem wir die `temperature` auf 0.8 setzen, und wählen dann die häufigste Antwort aus. Ich erinnere an die Vorlesung, wobei wir die `temperature` auf 0 gesetzt hatten, um eine deterministische Antwort zu erhalten, 0.8 sorgt für mehr Vielfalt in den Antworten, da nicht das Token mit der höchsten Wahrscheinlichkeit immer ausgewählt wird."
   ]
  },
  {
   "cell_type": "code",
   "execution_count": 28,
   "id": "c3cc5850",
   "metadata": {},
   "outputs": [
    {
     "data": {
      "text/plain": [
       "([9, 9, 9, 9, 9], 9)"
      ]
     },
     "execution_count": 28,
     "metadata": {},
     "output_type": "execute_result"
    }
   ],
   "source": [
    "import re\n",
    "\n",
    "prompt = '''Q: Anna hat 2 Äpfel. Sie bekommt 3 weitere Äpfel von ihrer Freundin. Wie viele Äpfel hat sie jetzt?\n",
    "A: Anna hat 2 Äpfel. Sie bekommt 3 weitere. 2 + 3 = 5. Die Antwort ist 5.\n",
    "\n",
    "Q: Tom hat 7 Buntstifte. Er kauft 5 weitere. Wie viele Buntstifte hat er insgesamt?\n",
    "A: Tom hat 7 Buntstifte. Er kauft 5 weitere. 7 + 5 = 12. Die Antwort ist 12.\n",
    "\n",
    "Q: Lisa hat 10 Euro. Sie bekommt 4 Euro Taschengeld. Wie viel Geld hat sie danach?\n",
    "A: Lisa hat 10 Euro. Sie bekommt 4 Euro dazu. 10 + 4 = 14. Die Antwort ist 14.\n",
    "\n",
    "Q: Paul hat 3 Schokoladen. Er bekommt von seinem Bruder 6 Schokoladen dazu. Wie viele Schokoladen hat Paul?\n",
    "A: '''\n",
    "\n",
    "# Wir können nun Self-Consistency aufrufen\n",
    "predictions = [llm_completion(prompt, stop=\"\\n\\n\", seed=i, temperature=0.8) for i in range(5)]\n",
    "\n",
    "prediction_ints = []\n",
    "for p in predictions:\n",
    "    numbers = re.findall(r'\\d+', p)\n",
    "    if numbers:\n",
    "        # Wir nehmen die letzte gefundene Zahl als Vorhersage\n",
    "        prediction_ints.append(int(numbers[-1]))\n",
    "    else:\n",
    "        prediction_ints.append(None)\n",
    "\n",
    "# Ausgabe: fünf Vorhersagen + häufigste Antwort\n",
    "prediction_ints, max(set(prediction_ints), key=prediction_ints.count)\n"
   ]
  },
  {
   "cell_type": "markdown",
   "id": "3d293cb7",
   "metadata": {},
   "source": [
    "## 5. Generiertes Wissens-Prompting\n",
    "\n",
    "Große Sprachmodelle (LLMs) werden kontinuierlich verbessert, und eine beliebte Technik beinhaltet die Fähigkeit, Wissen oder Informationen einzubinden, um dem Modell zu helfen, genauere Vorhersagen zu treffen.\n",
    "\n",
    "Kann das Modell mit einer ähnlichen Idee auch genutzt werden, um Wissen zu generieren, bevor eine Vorhersage getroffen wird? Genau das wird im Paper von [Liu et al. 2022](https://arxiv.org/pdf/2110.08387.pdf) versucht – Wissen zu generieren, das als Teil des Prompts verwendet wird. Wie nützlich ist dies für Aufgaben wie Schlussfolgerungen nach gesundem Menschverstand?\n",
    "\n",
    "Schritte:\n",
    "\n",
    "1. Zuerst generieren wir einige \"Wissensstände\":\n",
    "2. Dann verwenden wir diese Wissensstände, um den Prompt zu erweitern.\n",
    "3. Schließlich verwenden wir den erweiterten Prompt, um die Vorhersage zu treffen."
   ]
  },
  {
   "cell_type": "code",
   "execution_count": 29,
   "id": "78c31e19",
   "metadata": {},
   "outputs": [
    {
     "name": "stdout",
     "output_type": "stream",
     "text": [
      "Frage: Ist die Erde ist der einzige Planet im Sonnensystem?\"\n",
      "Wissen: Wissen: Es gibt acht Planeten in unserem Sonnensystem: Merkur, Venus, Erde, Mars, Jupiter, Saturn, Uranus und Neptun.\n",
      "Antwort:Nein, die Erde ist nicht der einzige Planet im Sonnensystem. Es gibt acht Planeten: Merkur, Venus, Erde, Mars, Jupiter, Saturn, Uranus und Neptun.\n"
     ]
    }
   ],
   "source": [
    "prompt = '''Eingabe: Griechenland ist größer als Mexiko.\n",
    "Wissen: Griechenland ist ungefähr 131.957 Quadratkilometer groß, während Mexiko ungefähr 1.964.375 Quadratkilometer groß ist. Mexiko ist daher 1.389% größer als Griechenland.\n",
    "\n",
    "Eingabe: Brillen beschlagen immer.\n",
    "Wissen: Kondensation tritt auf Brillengläsern auf, wenn Wasserdampf aus Ihrem Schweiß, Atem und der umgebenden Feuchtigkeit auf eine kalte Oberfläche trifft, abkühlt und sich dann in winzige Flüssigkeitströpfchen verwandelt und einen Film bildet, den Sie als Beschlag wahrnehmen. Ihre Gläser werden im Vergleich zu Ihrem Atem relativ kühl sein, besonders wenn die Außenluft kalt ist.\n",
    "\n",
    "Eingabe: Ein Fisch ist in der Lage zu denken.\n",
    "Wissen: Fische sind intelligenter, als sie scheinen. In vielen Bereichen, wie beispielsweise dem Gedächtnis, stehen ihre kognitiven Fähigkeiten denen von 'höheren' Wirbeltieren, einschließlich nichtmenschlicher Primaten, in nichts nach. Die Langzeitgedächtnisse der Fische helfen ihnen, komplexe soziale Beziehungen im Überblick zu behalten.\n",
    "\n",
    "Eingabe: Eine häufige Wirkung des Rauchens vieler Zigaretten im Laufe des Lebens ist eine überdurchschnittlich hohe Wahrscheinlichkeit, Lungenkrebs zu bekommen.\n",
    "Wissen: Diejenigen, die konstant weniger als eine Zigarette pro Tag im Laufe ihres Lebens geraucht haben, hatten ein neunmal höheres Risiko an Lungenkrebs zu sterben als Nichtraucher. Bei Personen, die zwischen einer und 10 Zigaretten pro Tag rauchten, war das Risiko an Lungenkrebs zu sterben fast 12 Mal höher als bei Nichtrauchern.\n",
    "\n",
    "Eingabe: Wie viele Planeten gibt es im Sonnensystem?\n",
    "Wissen:'''\n",
    "\n",
    "wissen = llm_completion(prompt, stop=\"\\n\")\n",
    "\n",
    "prompt_mit_wissen = f'''Frage: Ist die Erde ist der einzige Planet im Sonnensystem?\"\n",
    "Wissen: {wissen}\n",
    "Antwort:'''\n",
    "\n",
    "antwort = llm_completion(prompt_mit_wissen, stop=\"\\n\")\n",
    "print(prompt_mit_wissen + antwort)"
   ]
  },
  {
   "cell_type": "markdown",
   "id": "08f87d40",
   "metadata": {},
   "source": [
    "### Aufgabe 1: Named Entity Recognition mit Few-Shot Learning\n",
    "\n",
    "#### Ziel der Aufgabe\n",
    "Entwickeln Sie eine Few-Shot-Prompt-Strategie zur automatischen Erkennung von **Ortsnamen** (LOC - Location Entities) in deutschen Texten.  \n",
    "Als Datengrundlage dient die vorbereitete Datei **`LOC_sentences.txt`**, die Sätze im Format  \n",
    "\n",
    "```\n",
    "Satz####[\"Entity1\", \"Entity2\", ...]\n",
    "```\n",
    "\n",
    "enthält. Jeder Eintrag besteht also aus einem deutschen Satz und der zugehörigen Liste aller Ortsnamen (LOC-Entities) in diesem Satz.  \n",
    "\n",
    "#### Anforderungen\n",
    "1. **Few-Shot Learning:** Erstellen Sie eine Prompt mit **fünf zufälligen Few-shot Beispielen** aus `LOC_sentences.txt`, die das gewünschte Input-Output-Verhalten demonstrieren.  \n",
    "2. **Ausgabeformat:** Das Modell soll erkannte Ortsnamen als String-Liste zurückgeben (z. B. `[\"Berlin\", \"München\"]`).  \n",
    "3. **Robustheit:** Die Prompt soll auch bei unterschiedlichen Satzstrukturen und Kontexten funktionieren.  \n",
    "4. **Evaluation:** Testen Sie Ihr Few-Shot-Prompting auf 64 zufälligen Beispielen aus `LOC_sentences.txt`. \n",
    "\n",
    "#### Evaluation mit Accuracy\n",
    "Zur Bewertung der Ergebnisse soll die **Accuracy** berechnet werden.  \n",
    "- **Definition:** Accuracy ist der Anteil korrekt vorhergesagter Beispiele an allen Beispielen.  \n",
    "- Formel:  \n",
    "\n",
    "$$\n",
    "\\text{Accuracy} = \\frac{\\text{Anzahl korrekt erkannter Sätze}}{\\text{Gesamtanzahl der Sätze}}\n",
    "$$\n",
    "\n",
    "Ein Satz gilt als **korrekt erkannt**, wenn die vorhergesagte Liste von Ortsnamen exakt mit der Gold-Standard-Liste aus `LOC_sentences.txt` übereinstimmt.\n",
    "\n",
    "#### Beispiel für das erwartete Verhalten\n",
    "\n",
    "```md\n",
    "Input: \"In Essen haben sich die beiden Brüder getroffen.\"\n",
    "Output: [\"Essen\"]\n",
    "```\n",
    "\n",
    "Tipp: Mit `eval()` können Sie die String-Ausgabe des Modells in eine Python-Liste umwandeln.\n"
   ]
  },
  {
   "cell_type": "markdown",
   "id": "5298a68a",
   "metadata": {},
   "source": [
    "#### Beispiel Prompt\n",
    "\n",
    "```text\n",
    "Erkenne alle Ortsnamen in deutschen Sätzen und gib sie als Liste zurück.\n",
    "\n",
    "Satz: Die neuerliche Verwaltungsreform aus dem Jahre 1815 brachte für Passenheim abermals eine neue Kreiszuordnung mit sich .\n",
    "Ortsnamen: ['Passenheim']\n",
    "\n",
    "Satz: Die Hauptbasis wurde 2006 von Alderney nach Jersey verlegt .\n",
    "Ortsnamen: ['Alderney', 'Jersey']\n",
    "\n",
    "Satz: Sie verläuft zunächst entlang der Bayernstraße , überquert diese und erreicht die Haltestelle Dutzendteich , an der Umsteigemöglichkeit zur S-Bahn nach Altdorf besteht .\n",
    "Ortsnamen: ['Bayernstraße', 'Dutzendteich', 'Altdorf']\n",
    "\n",
    "Satz: Rhein-Kreis Neuss Eigentlich kommt das Thema immer zum Jahresanfang auf den Tisch , wenn die Fraktionen über den Haushaltsplan beraten : Soll sich der Rhein-Kreis Neuss von seinen RWE-Aktien trennen ?\n",
    "Ortsnamen: ['Rhein-Kreis Neuss', 'Rhein-Kreis Neuss']\n",
    "\n",
    "Satz: Eine Goevier ist in der Flugwerft Schleißheim ausgestellt .\n",
    "Ortsnamen: ['Schleißheim']\n",
    "\n",
    "Satz: Heute ist durch einen roten Ziegelstreifen der Verlauf des an den Turm anschließenden nordwestlichen Mauerrings gekennzeichnet , während der südwestliche Mauerring bis zum Gelände des ehemaligen Franziskanerklosters St . Johannis noch intakt ist .\n",
    "Ortsnamen:\n",
    "```"
   ]
  },
  {
   "cell_type": "code",
   "execution_count": 30,
   "id": "1828f9aa",
   "metadata": {},
   "outputs": [
    {
     "name": "stdout",
     "output_type": "stream",
     "text": [
      "Satz: Heute ist durch einen roten Ziegelstreifen der Verlauf des an den Turm anschließenden nordwestlichen Mauerrings gekennzeichnet , während der südwestliche Mauerring bis zum Gelände des ehemaligen Franziskanerklosters St . Johannis noch intakt ist .\n",
      "Entities: ['St . Johannis']\n"
     ]
    }
   ],
   "source": [
    "# Laden des Datensatzes\n",
    "dataset = []\n",
    "\n",
    "with open(\"LOC_sentences.txt\", encoding=\"utf-8\") as f:\n",
    "    for line in f:\n",
    "        line = line.strip()\n",
    "        sentence, entities_str = line.split(\"####\")\n",
    "        entities = eval(entities_str)\n",
    "        dataset += [[sentence, entities]]\n",
    "\n",
    "print(\"Satz:\", dataset[0][0])\n",
    "print(\"Entities:\", dataset[0][1])"
   ]
  },
  {
   "cell_type": "code",
   "execution_count": 31,
   "id": "f0342bed",
   "metadata": {},
   "outputs": [],
   "source": [
    "# Ihr Code steht hier ..."
   ]
  },
  {
   "cell_type": "markdown",
   "id": "5b4fe631",
   "metadata": {},
   "source": [
    "<details>\n",
    "<summary><b>Lösung anzeigen</b></summary>\n",
    "\n",
    "```python\n",
    "# 5 zufällige Few-Shot Beispiele\n",
    "import random\n",
    "random.seed(42)\n",
    "few_shot_examples = random.sample(dataset, 5)\n",
    "test_data = [item for item in dataset if item not in few_shot_examples][:64]\n",
    "\n",
    "# Prompt erstellen\n",
    "def create_prompt(examples, test_sentence):\n",
    "    prompt = \"Erkenne alle Ortsnamen in deutschen Sätzen und gib sie als Liste zurück.\\n\\n\"\n",
    "    \n",
    "    for sentence, entities in examples:\n",
    "        prompt += f\"Satz: {sentence}\\nOrtsnamen: {entities}\\n\\n\"\n",
    "    \n",
    "    prompt += f\"Satz: {test_sentence}\\nOrtsnamen:\"\n",
    "    return prompt\n",
    "\n",
    "# Evaluation\n",
    "def evaluate(test_data):\n",
    "    correct = 0\n",
    "    total = len(test_data)\n",
    "    \n",
    "    for sentence, true_entities in test_data:\n",
    "        prompt = create_prompt(few_shot_examples, sentence)\n",
    "        response = llm_completion(prompt, stop=\"\\n\")\n",
    "        \n",
    "        # Da das LLM manchmal ungültige Python-Ausdrücke zurückgibt, verwenden wir try-except\n",
    "        try:\n",
    "            predicted_entities = eval(response.strip())\n",
    "            if set(predicted_entities) == set(true_entities): # Mit set vergleichen, um Reihenfolge zu ignorieren\n",
    "                correct += 1\n",
    "        except:\n",
    "            pass\n",
    "    \n",
    "    accuracy = correct / total\n",
    "    return accuracy\n",
    "\n",
    "# Ausführung\n",
    "accuracy = evaluate(test_data) * 100\n",
    "print(f\"Accuracy: {accuracy:.2f}\")\n",
    "```\n",
    "\n",
    "</details>"
   ]
  }
 ],
 "metadata": {
  "kernelspec": {
   "display_name": "env_nils_hellwig",
   "language": "python",
   "name": "python3"
  },
  "language_info": {
   "codemirror_mode": {
    "name": "ipython",
    "version": 3
   },
   "file_extension": ".py",
   "mimetype": "text/x-python",
   "name": "python",
   "nbconvert_exporter": "python",
   "pygments_lexer": "ipython3",
   "version": "3.12.11"
  }
 },
 "nbformat": 4,
 "nbformat_minor": 5
}
